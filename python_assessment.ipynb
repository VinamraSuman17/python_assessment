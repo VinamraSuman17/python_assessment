{
  "cells": [
    {
      "cell_type": "markdown",
      "metadata": {
        "id": "view-in-github",
        "colab_type": "text"
      },
      "source": [
        "<a href=\"https://colab.research.google.com/github/VinamraSuman17/python_assessment/blob/main/python_assessment.ipynb\" target=\"_parent\"><img src=\"https://colab.research.google.com/assets/colab-badge.svg\" alt=\"Open In Colab\"/></a>"
      ]
    },
    {
      "cell_type": "code",
      "execution_count": 3,
      "metadata": {
        "id": "TgY51jCaWnW3",
        "colab": {
          "base_uri": "https://localhost:8080/"
        },
        "outputId": "b9f4d27f-d0e8-4ed6-d537-a391766c6a57"
      },
      "outputs": [
        {
          "output_type": "stream",
          "name": "stdout",
          "text": [
            "Fetching latest cryptocurrency data...\n",
            "✅ Excel file saved: Live_Crypto_Data.xlsx\n"
          ]
        }
      ],
      "source": [
        "import requests\n",
        "import pandas as pd\n",
        "from openpyxl import Workbook\n",
        "import time\n",
        "\n",
        "# Function to fetch live cryptocurrency data\n",
        "def fetch_crypto_data():\n",
        "    url = \"https://api.coingecko.com/api/v3/coins/markets\"\n",
        "    params = {\n",
        "        \"vs_currency\": \"usd\",\n",
        "        \"order\": \"market_cap_desc\",\n",
        "        \"per_page\": 50,  # Fetch top 50 cryptocurrencies\n",
        "        \"page\": 1,\n",
        "        \"sparkline\": \"false\",\n",
        "        \"price_change_percentage\": \"24h\"\n",
        "    }\n",
        "\n",
        "    response = requests.get(url, params=params)\n",
        "\n",
        "    if response.status_code == 200:\n",
        "        return response.json()\n",
        "    else:\n",
        "        print(\"Error fetching data:\", response.status_code)\n",
        "        return None\n",
        "\n",
        "# Function to process and analyze data\n",
        "def analyze_data(data):\n",
        "    df = pd.DataFrame(data)\n",
        "\n",
        "\n",
        "    df = df[['name', 'symbol', 'current_price', 'market_cap', 'total_volume', 'price_change_percentage_24h']]\n",
        "\n",
        "\n",
        "    top_5 = df.nlargest(5, 'market_cap')\n",
        "\n",
        "\n",
        "    avg_price = df['current_price'].mean()\n",
        "\n",
        "\n",
        "    highest_24h = df.loc[df['price_change_percentage_24h'].idxmax()]\n",
        "    lowest_24h = df.loc[df['price_change_percentage_24h'].idxmin()]\n",
        "\n",
        "    return df, top_5, avg_price, highest_24h, lowest_24h\n",
        "\n",
        "def save_to_excel():\n",
        "    print(\"Fetching latest cryptocurrency data...\")\n",
        "\n",
        "    data = fetch_crypto_data()\n",
        "    if data is None:\n",
        "        return\n",
        "\n",
        "    df, top_5, avg_price, highest_24h, lowest_24h = analyze_data(data)\n",
        "\n",
        "    filename = \"Live_Crypto_Data.xlsx\"\n",
        "    with pd.ExcelWriter(filename, engine=\"openpyxl\") as writer:\n",
        "        df.to_excel(writer, sheet_name=\"Crypto Data\", index=False)\n",
        "        top_5.to_excel(writer, sheet_name=\"Top 5 Market Cap\", index=False)\n",
        "\n",
        "        summary = pd.DataFrame({\n",
        "            \"Metric\": [\"Average Price\", \"Highest 24h % Change\", \"Lowest 24h % Change\"],\n",
        "            \"Value\": [avg_price, highest_24h[\"price_change_percentage_24h\"], lowest_24h[\"price_change_percentage_24h\"]]\n",
        "        })\n",
        "        summary.to_excel(writer, sheet_name=\"Summary\", index=False)\n",
        "\n",
        "    print(f\"✅ Excel file saved: {filename}\")\n",
        "\n",
        "save_to_excel()\n",
        "\n",
        "time.sleep(5)\n"
      ]
    },
    {
      "cell_type": "code",
      "source": [
        "import requests\n",
        "import pandas as pd\n",
        "\n",
        "# Fetch data\n",
        "def fetch_crypto_data():\n",
        "    url = \"https://api.coingecko.com/api/v3/coins/markets\"\n",
        "    params = {\n",
        "        \"vs_currency\": \"usd\",\n",
        "        \"order\": \"market_cap_desc\",\n",
        "        \"per_page\": 50,  # Fetch top 50 cryptocurrencies\n",
        "        \"page\": 1,\n",
        "        \"sparkline\": \"false\",\n",
        "        \"price_change_percentage\": \"24h\"\n",
        "    }\n",
        "    response = requests.get(url, params=params)\n",
        "    return response.json() if response.status_code == 200 else None\n",
        "\n",
        "# Fetch & convert to DataFrame\n",
        "data = fetch_crypto_data()\n",
        "df = pd.DataFrame(data)\n",
        "\n",
        "# Select relevant columns\n",
        "df = df[['name', 'symbol', 'current_price', 'market_cap', 'total_volume', 'price_change_percentage_24h']]\n",
        "\n",
        "# Top 5 by market cap\n",
        "top_5 = df.nlargest(5, 'market_cap')\n",
        "\n",
        "# Average price of top 50\n",
        "average_price = df['current_price'].mean()\n",
        "\n",
        "# Highest & lowest 24-hour change\n",
        "highest_24h = df.loc[df['price_change_percentage_24h'].idxmax()]\n",
        "lowest_24h = df.loc[df['price_change_percentage_24h'].idxmin()]\n",
        "\n",
        "# Print results\n",
        "print(\"\\n🔹 Top 5 Cryptocurrencies by Market Cap:\")\n",
        "print(top_5[['name', 'symbol', 'market_cap']])\n",
        "\n",
        "print(f\"\\n🔹 Average Price of the Top 50 Cryptocurrencies: ${average_price:.2f}\")\n",
        "\n",
        "print(f\"\\n🔹 Highest 24h Change: {highest_24h['name']} ({highest_24h['symbol']}) - {highest_24h['price_change_percentage_24h']:.2f}%\")\n",
        "print(f\"🔹 Lowest 24h Change: {lowest_24h['name']} ({lowest_24h['symbol']}) - {lowest_24h['price_change_percentage_24h']:.2f}%\")\n"
      ],
      "metadata": {
        "colab": {
          "base_uri": "https://localhost:8080/"
        },
        "id": "cdRr01qaoq0n",
        "outputId": "f48135a2-c6c4-4baf-d3e4-695cf741f933"
      },
      "execution_count": 5,
      "outputs": [
        {
          "output_type": "stream",
          "name": "stdout",
          "text": [
            "\n",
            "🔹 Top 5 Cryptocurrencies by Market Cap:\n",
            "       name symbol     market_cap\n",
            "0   Bitcoin    btc  1921638303452\n",
            "1  Ethereum    eth   320316468325\n",
            "2       XRP    xrp   142514847379\n",
            "3    Tether   usdt   141884527688\n",
            "4    Solana    sol    97504132624\n",
            "\n",
            "🔹 Average Price of the Top 50 Cryptocurrencies: $4206.09\n",
            "\n",
            "🔹 Highest 24h Change: Cardano (ada) - 13.29%\n",
            "🔹 Lowest 24h Change: Aptos (apt) - -4.12%\n"
          ]
        }
      ]
    },
    {
      "cell_type": "code",
      "source": [
        "from google.colab import drive\n",
        "import shutil\n",
        "\n",
        "drive.mount('/content/drive')\n",
        "\n",
        "destination_path = \"/content/drive/My Drive/Live_Crypto_Data.xlsx\"\n",
        "\n",
        "shutil.copy(\"Live_Crypto_Data.xlsx\", destination_path)\n",
        "\n",
        "print(\"✅ File uploaded to Google Drive:\", destination_path)\n"
      ],
      "metadata": {
        "colab": {
          "base_uri": "https://localhost:8080/"
        },
        "id": "IcH0y968o2Ie",
        "outputId": "1bee2a29-565a-4d03-c322-df7993839075"
      },
      "execution_count": 6,
      "outputs": [
        {
          "output_type": "stream",
          "name": "stdout",
          "text": [
            "Mounted at /content/drive\n",
            "✅ File uploaded to Google Drive: /content/drive/My Drive/Live_Crypto_Data.xlsx\n"
          ]
        }
      ]
    },
    {
      "cell_type": "code",
      "source": [],
      "metadata": {
        "id": "Tc_F8BQ3qjex"
      },
      "execution_count": null,
      "outputs": []
    }
  ],
  "metadata": {
    "colab": {
      "provenance": [],
      "authorship_tag": "ABX9TyPeojnBN4YeCsrPuVWUWnfQ",
      "include_colab_link": true
    },
    "kernelspec": {
      "display_name": "Python 3",
      "name": "python3"
    },
    "language_info": {
      "name": "python"
    }
  },
  "nbformat": 4,
  "nbformat_minor": 0
}